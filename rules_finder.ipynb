{
 "cells": [
  {
   "cell_type": "code",
   "execution_count": 3,
   "id": "d4ae79d2-d4d6-40d2-9df9-da038b42f0c1",
   "metadata": {
    "scrolled": true
   },
   "outputs": [
    {
     "name": "stdin",
     "output_type": "stream",
     "text": [
      "Enter the folder name that contains the file:  GUI\n",
      "Enter the rule to be found:  CR_FP_CREDIT_ALLOCATION\n",
      "Enter the stage to analyze (Default: Allocate_worker0.log):  \n"
     ]
    },
    {
     "name": "stdout",
     "output_type": "stream",
     "text": [
      "Beggining the file Allocate_worker0.log reading\n",
      "Current line: 1\n",
      "Current line: 10001\n",
      "Current line: 20001\n",
      "Current line: 30001\n",
      "Current line: 40001\n"
     ]
    },
    {
     "ename": "KeyboardInterrupt",
     "evalue": "",
     "output_type": "error",
     "traceback": [
      "\u001b[1;31m---------------------------------------------------------------------------\u001b[0m",
      "\u001b[1;31mKeyboardInterrupt\u001b[0m                         Traceback (most recent call last)",
      "Cell \u001b[1;32mIn[3], line 26\u001b[0m\n\u001b[0;32m     24\u001b[0m f \u001b[38;5;241m=\u001b[39m \u001b[38;5;28mopen\u001b[39m(\u001b[38;5;124mf\u001b[39m\u001b[38;5;124m\"\u001b[39m\u001b[38;5;132;01m{\u001b[39;00mFileNameToWrite\u001b[38;5;132;01m}\u001b[39;00m\u001b[38;5;124m\"\u001b[39m, \u001b[38;5;124m\"\u001b[39m\u001b[38;5;124mx\u001b[39m\u001b[38;5;124m\"\u001b[39m)\n\u001b[0;32m     25\u001b[0m \u001b[38;5;28mprint\u001b[39m(\u001b[38;5;124mF\u001b[39m\u001b[38;5;124m\"\u001b[39m\u001b[38;5;124mBeggining the file \u001b[39m\u001b[38;5;132;01m{\u001b[39;00mFILE_TO_READ\u001b[38;5;132;01m}\u001b[39;00m\u001b[38;5;124m reading\u001b[39m\u001b[38;5;124m\"\u001b[39m)\n\u001b[1;32m---> 26\u001b[0m \u001b[38;5;28;43;01mfor\u001b[39;49;00m\u001b[43m \u001b[49m\u001b[43mline\u001b[49m\u001b[43m \u001b[49m\u001b[38;5;129;43;01min\u001b[39;49;00m\u001b[43m \u001b[49m\u001b[38;5;28;43mopen\u001b[39;49m\u001b[43m(\u001b[49m\u001b[38;5;124;43mf\u001b[39;49m\u001b[38;5;124;43m\"\u001b[39;49m\u001b[38;5;132;43;01m{\u001b[39;49;00m\u001b[43mDIR\u001b[49m\u001b[38;5;132;43;01m}\u001b[39;49;00m\u001b[38;5;124;43m/\u001b[39;49m\u001b[38;5;132;43;01m{\u001b[39;49;00m\u001b[43mFILE_TO_READ\u001b[49m\u001b[38;5;132;43;01m}\u001b[39;49;00m\u001b[38;5;124;43m\"\u001b[39;49m\u001b[43m)\u001b[49m\u001b[43m:\u001b[49m\n\u001b[0;32m     27\u001b[0m \u001b[43m    \u001b[49m\u001b[38;5;28;43;01mif\u001b[39;49;00m\u001b[43m \u001b[49m\u001b[43m(\u001b[49m\u001b[43mlinha\u001b[49m\u001b[43m \u001b[49m\u001b[38;5;241;43m%\u001b[39;49m\u001b[43m \u001b[49m\u001b[38;5;241;43m10000\u001b[39;49m\u001b[43m \u001b[49m\u001b[38;5;241;43m==\u001b[39;49m\u001b[43m \u001b[49m\u001b[38;5;241;43m1\u001b[39;49m\u001b[43m)\u001b[49m\u001b[43m:\u001b[49m\n\u001b[0;32m     28\u001b[0m \u001b[43m        \u001b[49m\u001b[38;5;28;43mprint\u001b[39;49m\u001b[43m(\u001b[49m\u001b[38;5;124;43mf\u001b[39;49m\u001b[38;5;124;43m\"\u001b[39;49m\u001b[38;5;124;43mCurrent line: \u001b[39;49m\u001b[38;5;132;43;01m{\u001b[39;49;00m\u001b[43mlinha\u001b[49m\u001b[38;5;132;43;01m}\u001b[39;49;00m\u001b[38;5;124;43m\"\u001b[39;49m\u001b[43m)\u001b[49m\n",
      "File \u001b[1;32m~\\AppData\\Local\\Programs\\Python\\Python312\\Lib\\encodings\\cp1252.py:22\u001b[0m, in \u001b[0;36mIncrementalDecoder.decode\u001b[1;34m(self, input, final)\u001b[0m\n\u001b[0;32m     21\u001b[0m \u001b[38;5;28;01mclass\u001b[39;00m \u001b[38;5;21;01mIncrementalDecoder\u001b[39;00m(codecs\u001b[38;5;241m.\u001b[39mIncrementalDecoder):\n\u001b[1;32m---> 22\u001b[0m     \u001b[38;5;28;01mdef\u001b[39;00m \u001b[38;5;21mdecode\u001b[39m(\u001b[38;5;28mself\u001b[39m, \u001b[38;5;28minput\u001b[39m, final\u001b[38;5;241m=\u001b[39m\u001b[38;5;28;01mFalse\u001b[39;00m):\n\u001b[0;32m     23\u001b[0m         \u001b[38;5;28;01mreturn\u001b[39;00m codecs\u001b[38;5;241m.\u001b[39mcharmap_decode(\u001b[38;5;28minput\u001b[39m,\u001b[38;5;28mself\u001b[39m\u001b[38;5;241m.\u001b[39merrors,decoding_table)[\u001b[38;5;241m0\u001b[39m]\n",
      "\u001b[1;31mKeyboardInterrupt\u001b[0m: "
     ]
    }
   ],
   "source": [
    "import os\n",
    "import datetime\n",
    "import time\n",
    "\n",
    "# Get user inputs\n",
    "CASENUMBER =  input(\"Enter the folder name that contains the file: \")\n",
    "RULE_TO_BE_FOUND =  input(\"Enter the R name that contains the file: \")\n",
    "FILE_TO_READ =  input(\"Enter the stage to analyze (Default: Allocate_worker0.log): \") or \"Allocate_worker0.log\"\n",
    "\n",
    "\n",
    "# Set directory and output file path\n",
    "inicio = datetime.datetime.now()\n",
    "DIR = f\"{CASENUMBER}\"\n",
    "FileNameToWrite = f'{DIR}/{FILE_TO_READ.replace(\".log\",\"\")}_{RULE_TO_BE_FOUND}_{time.time()}.txt'\n",
    "\n",
    "# Initialize variables\n",
    "linha = 0 \n",
    "start_bloco = 0\n",
    "texto = \"\"\n",
    "total_in = 0\n",
    "total_out = 0\n",
    "\n",
    "\n",
    "f = open(f\"{FileNameToWrite}\", \"x\")\n",
    "print(F\"Beggining the file {FILE_TO_READ} reading\")\n",
    "for line in open(f\"{DIR}/{FILE_TO_READ}\"):\n",
    "    if (linha % 10000 == 1):\n",
    "        print(f\"Current line: {linha}\")\n",
    "\n",
    "    if linha ==0:\n",
    "        start_bloco = 1\n",
    "    elif ((line in ['\\n', '\\r\\n']) & (start_bloco == 1)):\n",
    "        #If another blank line is found and the block is open (1), the following operations will be performed:\n",
    "            #Set the block to 0 (closed);\n",
    "            #Validate if the searched term is present:\n",
    "                #If it is, save the block in the DOC\n",
    "                #If it is not, reset the value of the text variable\n",
    "        if texto.find(RULE_TO_BE_FOUND) > 0:\n",
    "            #found value, save it and reset the variable text\n",
    "            print(f\"The value {RULE_TO_BE_FOUND} was found in the code block. Writing to {FileNameToWrite}.\")\n",
    "            f.write(texto)\n",
    "            texto = \"\"\n",
    "            f.close()\n",
    "            f = open(f\"{FileNameToWrite}\", \"a\")\n",
    "            total_in = total_in + 1\n",
    "        else:\n",
    "            texto = \"\"\n",
    "\n",
    "    #Upon identifying the blank line, assign the content to the variable 'texto'.\n",
    "    if(start_bloco == 1):\n",
    "        texto = texto + line\n",
    "\n",
    "    if line.find(RULE_TO_BE_FOUND) > 0:\n",
    "         total_out = total_out + 1\n",
    "\n",
    "    linha = linha + 1\n",
    "\n",
    "f.write(\"------PRINTING THE END OF THE FILE------\\n\")\n",
    "f.write(texto)\n",
    "f.close()\n",
    "fim = datetime.datetime.now()\n",
    "print(f\"Process finished. Total blocks found: {total_in}. Total time: {(fim - inicio).seconds} seconds\" )"
   ]
  },
  {
   "cell_type": "code",
   "execution_count": null,
   "id": "e3377f73-1f94-4e39-a023-1348bda22e53",
   "metadata": {},
   "outputs": [],
   "source": []
  }
 ],
 "metadata": {
  "kernelspec": {
   "display_name": "Python 3 (ipykernel)",
   "language": "python",
   "name": "python3"
  },
  "language_info": {
   "codemirror_mode": {
    "name": "ipython",
    "version": 3
   },
   "file_extension": ".py",
   "mimetype": "text/x-python",
   "name": "python",
   "nbconvert_exporter": "python",
   "pygments_lexer": "ipython3",
   "version": "3.12.1"
  }
 },
 "nbformat": 4,
 "nbformat_minor": 5
}
